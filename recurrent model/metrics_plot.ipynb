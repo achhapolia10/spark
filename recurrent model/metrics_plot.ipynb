{
 "metadata": {
  "language_info": {
   "codemirror_mode": {
    "name": "ipython",
    "version": 3
   },
   "file_extension": ".py",
   "mimetype": "text/x-python",
   "name": "python",
   "nbconvert_exporter": "python",
   "pygments_lexer": "ipython3",
   "version": "3.7.7-final"
  },
  "orig_nbformat": 2,
  "kernelspec": {
   "name": "python37764bitbase9c3b6b6d85ee4f56aaff37be826f2a3d",
   "display_name": "Python 3.7.7 64-bit ('base')"
  }
 },
 "nbformat": 4,
 "nbformat_minor": 2,
 "cells": [
  {
   "cell_type": "code",
   "execution_count": 8,
   "metadata": {},
   "outputs": [],
   "source": [
    "import pickle\n",
    "\n",
    "import pandas as pd\n",
    "import tensorflow as tf\n",
    "import matplotlib.pyplot as plt"
   ]
  },
  {
   "cell_type": "code",
   "execution_count": 2,
   "metadata": {},
   "outputs": [],
   "source": [
    "physical_devices = tf.config.list_physical_devices('GPU')\n",
    "try:\n",
    "  tf.config.experimental.set_memory_growth(physical_devices[0], True)\n",
    "except:\n",
    "  print(\"Invalid device or cannot modify virtual devices once initialized.\")\n",
    "  pass"
   ]
  },
  {
   "cell_type": "code",
   "execution_count": 3,
   "metadata": {},
   "outputs": [],
   "source": [
    "X_train, y_train = pickle.load(open( \"dict.pickle\", \"rb\" ))\n",
    "\n",
    "model = tf.keras.models.load_model(\"recurrent_model_initial.h5\")"
   ]
  },
  {
   "cell_type": "code",
   "execution_count": 4,
   "metadata": {},
   "outputs": [],
   "source": [
    "p = []\n",
    "for i in range(10):\n",
    "    p.append(model.predict(X_train[i].reshape(1, X_train.shape[1], X_train.shape[2]))[0])"
   ]
  },
  {
   "cell_type": "code",
   "execution_count": 5,
   "metadata": {},
   "outputs": [
    {
     "output_type": "execute_result",
     "data": {
      "text/plain": [
       "(array([ 0.02953667,  0.01193859,  0.010673  , -1.6287265 , -1.1575602 ,\n",
       "        -0.81270653, -1.1681079 ,  0.18812531,  0.10767157,  0.39660037,\n",
       "        -0.7771584 , -0.79122657, -0.1828196 ], dtype=float32),\n",
       " array([-0.00348921, -0.01214137, -0.0080683 , -1.6912189 , -1.11736187,\n",
       "        -0.86236211, -1.21721709,  0.28059016,  0.04566426,  0.39204209,\n",
       "        -0.80287539, -0.83308707, -0.22831371]))"
      ]
     },
     "metadata": {},
     "execution_count": 5
    }
   ],
   "source": [
    "p[0], y_train[0]"
   ]
  },
  {
   "cell_type": "code",
   "execution_count": 9,
   "metadata": {},
   "outputs": [
    {
     "output_type": "execute_result",
     "data": {
      "text/plain": [
       "Index(['Vrms ph-n AN Avg', 'Vrms ph-n BN Avg', 'Vrms ph-n CN Avg',\n",
       "       'Vrms ph-n NG Avg', 'Current A Avg', 'Current B Avg', 'Current C Avg',\n",
       "       'Current Phi AN Avg', 'Current Phi BN Avg', 'Current Phi CN Avg',\n",
       "       'Active Power Total Avg', 'Apparent Power Total Avg',\n",
       "       'Reactive Power Total Avg'],\n",
       "      dtype='object')"
      ]
     },
     "metadata": {},
     "execution_count": 9
    }
   ],
   "source": [
    "data = pd.read_excel('features.xlsx')\n",
    "input_data = data.drop(['Date','Time','Cos Phi AN Avg','Cos Phi BN Avg','Cos Phi CN Avg','Cos Phi Total Avg'], axis = 1)\n",
    "input_data.columns"
   ]
  },
  {
   "cell_type": "code",
   "execution_count": null,
   "metadata": {},
   "outputs": [],
   "source": [
    "for i in range()\n",
    "plt.plot(p)"
   ]
  }
 ]
}